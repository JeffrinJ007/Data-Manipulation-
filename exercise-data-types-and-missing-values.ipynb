{
 "cells": [
  {
   "cell_type": "markdown",
   "id": "5a756938",
   "metadata": {
    "papermill": {
     "duration": 0.006003,
     "end_time": "2023-06-30T04:22:07.879769",
     "exception": false,
     "start_time": "2023-06-30T04:22:07.873766",
     "status": "completed"
    },
    "tags": []
   },
   "source": [
    "**This notebook is an exercise in the [Pandas](https://www.kaggle.com/learn/pandas) course.  You can reference the tutorial at [this link](https://www.kaggle.com/residentmario/data-types-and-missing-values).**\n",
    "\n",
    "---\n"
   ]
  },
  {
   "cell_type": "markdown",
   "id": "3621f7da",
   "metadata": {
    "papermill": {
     "duration": 0.00506,
     "end_time": "2023-06-30T04:22:07.890369",
     "exception": false,
     "start_time": "2023-06-30T04:22:07.885309",
     "status": "completed"
    },
    "tags": []
   },
   "source": [
    "# Introduction\n",
    "\n",
    "Run the following cell to load your data and some utility functions."
   ]
  },
  {
   "cell_type": "code",
   "execution_count": 1,
   "id": "c2f63c6a",
   "metadata": {
    "execution": {
     "iopub.execute_input": "2023-06-30T04:22:07.903445Z",
     "iopub.status.busy": "2023-06-30T04:22:07.902958Z",
     "iopub.status.idle": "2023-06-30T04:22:11.146476Z",
     "shell.execute_reply": "2023-06-30T04:22:11.145234Z"
    },
    "papermill": {
     "duration": 3.254117,
     "end_time": "2023-06-30T04:22:11.149882",
     "exception": false,
     "start_time": "2023-06-30T04:22:07.895765",
     "status": "completed"
    },
    "tags": []
   },
   "outputs": [
    {
     "name": "stdout",
     "output_type": "stream",
     "text": [
      "Setup complete.\n"
     ]
    }
   ],
   "source": [
    "import pandas as pd\n",
    "\n",
    "reviews = pd.read_csv(\"../input/wine-reviews/winemag-data-130k-v2.csv\", index_col=0)\n",
    "\n",
    "from learntools.core import binder; binder.bind(globals())\n",
    "from learntools.pandas.data_types_and_missing_data import *\n",
    "print(\"Setup complete.\")"
   ]
  },
  {
   "cell_type": "markdown",
   "id": "797972f0",
   "metadata": {
    "papermill": {
     "duration": 0.005247,
     "end_time": "2023-06-30T04:22:11.160748",
     "exception": false,
     "start_time": "2023-06-30T04:22:11.155501",
     "status": "completed"
    },
    "tags": []
   },
   "source": [
    "# Exercises"
   ]
  },
  {
   "cell_type": "markdown",
   "id": "7fe01091",
   "metadata": {
    "papermill": {
     "duration": 0.005211,
     "end_time": "2023-06-30T04:22:11.171387",
     "exception": false,
     "start_time": "2023-06-30T04:22:11.166176",
     "status": "completed"
    },
    "tags": []
   },
   "source": [
    "## 1. \n",
    "What is the data type of the `points` column in the dataset?"
   ]
  },
  {
   "cell_type": "code",
   "execution_count": 2,
   "id": "e9519bf5",
   "metadata": {
    "execution": {
     "iopub.execute_input": "2023-06-30T04:22:11.184716Z",
     "iopub.status.busy": "2023-06-30T04:22:11.183531Z",
     "iopub.status.idle": "2023-06-30T04:22:11.194862Z",
     "shell.execute_reply": "2023-06-30T04:22:11.193718Z"
    },
    "papermill": {
     "duration": 0.020358,
     "end_time": "2023-06-30T04:22:11.197111",
     "exception": false,
     "start_time": "2023-06-30T04:22:11.176753",
     "status": "completed"
    },
    "tags": []
   },
   "outputs": [
    {
     "data": {
      "application/javascript": [
       "parent.postMessage({\"jupyterEvent\": \"custom.exercise_interaction\", \"data\": {\"outcomeType\": 1, \"valueTowardsCompletion\": 0.25, \"interactionType\": 1, \"questionType\": 1, \"questionId\": \"1_PointsDtype\", \"learnToolsVersion\": \"0.3.4\", \"failureMessage\": \"\", \"exceptionClass\": \"\", \"trace\": \"\"}}, \"*\")"
      ],
      "text/plain": [
       "<IPython.core.display.Javascript object>"
      ]
     },
     "metadata": {},
     "output_type": "display_data"
    },
    {
     "data": {
      "text/markdown": [
       "<span style=\"color:#33cc33\">Correct</span>"
      ],
      "text/plain": [
       "Correct"
      ]
     },
     "metadata": {},
     "output_type": "display_data"
    }
   ],
   "source": [
    "# Your code here\n",
    "dtype = reviews.points.dtype\n",
    "\n",
    "# Check your answer\n",
    "q1.check()"
   ]
  },
  {
   "cell_type": "code",
   "execution_count": 3,
   "id": "8fcf095e",
   "metadata": {
    "execution": {
     "iopub.execute_input": "2023-06-30T04:22:11.212622Z",
     "iopub.status.busy": "2023-06-30T04:22:11.211899Z",
     "iopub.status.idle": "2023-06-30T04:22:11.219133Z",
     "shell.execute_reply": "2023-06-30T04:22:11.218360Z"
    },
    "papermill": {
     "duration": 0.01837,
     "end_time": "2023-06-30T04:22:11.221239",
     "exception": false,
     "start_time": "2023-06-30T04:22:11.202869",
     "status": "completed"
    },
    "tags": []
   },
   "outputs": [
    {
     "data": {
      "application/javascript": [
       "parent.postMessage({\"jupyterEvent\": \"custom.exercise_interaction\", \"data\": {\"interactionType\": 3, \"questionType\": 1, \"questionId\": \"1_PointsDtype\", \"learnToolsVersion\": \"0.3.4\", \"valueTowardsCompletion\": 0.0, \"failureMessage\": \"\", \"exceptionClass\": \"\", \"trace\": \"\", \"outcomeType\": 4}}, \"*\")"
      ],
      "text/plain": [
       "<IPython.core.display.Javascript object>"
      ]
     },
     "metadata": {},
     "output_type": "display_data"
    },
    {
     "data": {
      "text/markdown": [
       "<span style=\"color:#33cc99\">Solution:</span> \n",
       "```python\n",
       "dtype = reviews.points.dtype\n",
       "```"
      ],
      "text/plain": [
       "Solution: \n",
       "```python\n",
       "dtype = reviews.points.dtype\n",
       "```"
      ]
     },
     "metadata": {},
     "output_type": "display_data"
    }
   ],
   "source": [
    "#q1.hint()\n",
    "q1.solution()"
   ]
  },
  {
   "cell_type": "markdown",
   "id": "d898725e",
   "metadata": {
    "papermill": {
     "duration": 0.00583,
     "end_time": "2023-06-30T04:22:11.233203",
     "exception": false,
     "start_time": "2023-06-30T04:22:11.227373",
     "status": "completed"
    },
    "tags": []
   },
   "source": [
    "## 2. \n",
    "Create a Series from entries in the `points` column, but convert the entries to strings. Hint: strings are `str` in native Python."
   ]
  },
  {
   "cell_type": "code",
   "execution_count": 4,
   "id": "cd385c81",
   "metadata": {
    "execution": {
     "iopub.execute_input": "2023-06-30T04:22:11.247543Z",
     "iopub.status.busy": "2023-06-30T04:22:11.246865Z",
     "iopub.status.idle": "2023-06-30T04:22:11.346215Z",
     "shell.execute_reply": "2023-06-30T04:22:11.345254Z"
    },
    "papermill": {
     "duration": 0.109226,
     "end_time": "2023-06-30T04:22:11.348494",
     "exception": false,
     "start_time": "2023-06-30T04:22:11.239268",
     "status": "completed"
    },
    "tags": []
   },
   "outputs": [
    {
     "data": {
      "application/javascript": [
       "parent.postMessage({\"jupyterEvent\": \"custom.exercise_interaction\", \"data\": {\"outcomeType\": 1, \"valueTowardsCompletion\": 0.25, \"interactionType\": 1, \"questionType\": 1, \"questionId\": \"2_StrPoints\", \"learnToolsVersion\": \"0.3.4\", \"failureMessage\": \"\", \"exceptionClass\": \"\", \"trace\": \"\"}}, \"*\")"
      ],
      "text/plain": [
       "<IPython.core.display.Javascript object>"
      ]
     },
     "metadata": {},
     "output_type": "display_data"
    },
    {
     "data": {
      "text/markdown": [
       "<span style=\"color:#33cc33\">Correct</span>"
      ],
      "text/plain": [
       "Correct"
      ]
     },
     "metadata": {},
     "output_type": "display_data"
    }
   ],
   "source": [
    "point_strings = reviews.points.astype(str)\n",
    "\n",
    "# Check your answer\n",
    "q2.check()"
   ]
  },
  {
   "cell_type": "code",
   "execution_count": 5,
   "id": "74911d60",
   "metadata": {
    "execution": {
     "iopub.execute_input": "2023-06-30T04:22:11.363728Z",
     "iopub.status.busy": "2023-06-30T04:22:11.363109Z",
     "iopub.status.idle": "2023-06-30T04:22:11.371508Z",
     "shell.execute_reply": "2023-06-30T04:22:11.370484Z"
    },
    "papermill": {
     "duration": 0.019023,
     "end_time": "2023-06-30T04:22:11.374016",
     "exception": false,
     "start_time": "2023-06-30T04:22:11.354993",
     "status": "completed"
    },
    "tags": []
   },
   "outputs": [
    {
     "data": {
      "application/javascript": [
       "parent.postMessage({\"jupyterEvent\": \"custom.exercise_interaction\", \"data\": {\"interactionType\": 3, \"questionType\": 1, \"questionId\": \"2_StrPoints\", \"learnToolsVersion\": \"0.3.4\", \"valueTowardsCompletion\": 0.0, \"failureMessage\": \"\", \"exceptionClass\": \"\", \"trace\": \"\", \"outcomeType\": 4}}, \"*\")"
      ],
      "text/plain": [
       "<IPython.core.display.Javascript object>"
      ]
     },
     "metadata": {},
     "output_type": "display_data"
    },
    {
     "data": {
      "text/markdown": [
       "<span style=\"color:#33cc99\">Solution:</span> \n",
       "```python\n",
       "point_strings = reviews.points.astype(str)\n",
       "```"
      ],
      "text/plain": [
       "Solution: \n",
       "```python\n",
       "point_strings = reviews.points.astype(str)\n",
       "```"
      ]
     },
     "metadata": {},
     "output_type": "display_data"
    }
   ],
   "source": [
    "#q2.hint()\n",
    "q2.solution()"
   ]
  },
  {
   "cell_type": "markdown",
   "id": "2623ef71",
   "metadata": {
    "papermill": {
     "duration": 0.006447,
     "end_time": "2023-06-30T04:22:11.387271",
     "exception": false,
     "start_time": "2023-06-30T04:22:11.380824",
     "status": "completed"
    },
    "tags": []
   },
   "source": [
    "## 3.\n",
    "Sometimes the price column is null. How many reviews in the dataset are missing a price?"
   ]
  },
  {
   "cell_type": "code",
   "execution_count": 6,
   "id": "dc9f7393",
   "metadata": {
    "execution": {
     "iopub.execute_input": "2023-06-30T04:22:11.403178Z",
     "iopub.status.busy": "2023-06-30T04:22:11.402528Z",
     "iopub.status.idle": "2023-06-30T04:22:11.411472Z",
     "shell.execute_reply": "2023-06-30T04:22:11.410568Z"
    },
    "papermill": {
     "duration": 0.01979,
     "end_time": "2023-06-30T04:22:11.413932",
     "exception": false,
     "start_time": "2023-06-30T04:22:11.394142",
     "status": "completed"
    },
    "tags": []
   },
   "outputs": [
    {
     "data": {
      "application/javascript": [
       "parent.postMessage({\"jupyterEvent\": \"custom.exercise_interaction\", \"data\": {\"outcomeType\": 4, \"interactionType\": 1, \"questionType\": 1, \"questionId\": \"3_CountMissingPrices\", \"learnToolsVersion\": \"0.3.4\", \"valueTowardsCompletion\": 0.0, \"failureMessage\": \"\", \"exceptionClass\": \"\", \"trace\": \"\"}}, \"*\")"
      ],
      "text/plain": [
       "<IPython.core.display.Javascript object>"
      ]
     },
     "metadata": {},
     "output_type": "display_data"
    },
    {
     "data": {
      "text/markdown": [
       "<span style=\"color:#ccaa33\">Check:</span> When you've updated the starter code, `check()` will tell you whether your code is correct. You need to update the code that creates variable `n_missing_prices`"
      ],
      "text/plain": [
       "Check: When you've updated the starter code, `check()` will tell you whether your code is correct. You need to update the code that creates variable `n_missing_prices`"
      ]
     },
     "metadata": {},
     "output_type": "display_data"
    }
   ],
   "source": [
    "n_missing_prices = ____\n",
    "\n",
    "# Check your answer\n",
    "q3.check()"
   ]
  },
  {
   "cell_type": "code",
   "execution_count": 7,
   "id": "d02c7868",
   "metadata": {
    "execution": {
     "iopub.execute_input": "2023-06-30T04:22:11.430679Z",
     "iopub.status.busy": "2023-06-30T04:22:11.430014Z",
     "iopub.status.idle": "2023-06-30T04:22:11.438419Z",
     "shell.execute_reply": "2023-06-30T04:22:11.437382Z"
    },
    "papermill": {
     "duration": 0.019661,
     "end_time": "2023-06-30T04:22:11.440850",
     "exception": false,
     "start_time": "2023-06-30T04:22:11.421189",
     "status": "completed"
    },
    "tags": []
   },
   "outputs": [
    {
     "data": {
      "application/javascript": [
       "parent.postMessage({\"jupyterEvent\": \"custom.exercise_interaction\", \"data\": {\"interactionType\": 3, \"questionType\": 1, \"questionId\": \"3_CountMissingPrices\", \"learnToolsVersion\": \"0.3.4\", \"valueTowardsCompletion\": 0.0, \"failureMessage\": \"\", \"exceptionClass\": \"\", \"trace\": \"\", \"outcomeType\": 4}}, \"*\")"
      ],
      "text/plain": [
       "<IPython.core.display.Javascript object>"
      ]
     },
     "metadata": {},
     "output_type": "display_data"
    },
    {
     "data": {
      "text/markdown": [
       "<span style=\"color:#33cc99\">Solution:</span> \n",
       "```python\n",
       "missing_price_reviews = reviews[reviews.price.isnull()]\n",
       "n_missing_prices = len(missing_price_reviews)\n",
       "# Cute alternative solution: if we sum a boolean series, True is treated as 1 and False as 0\n",
       "n_missing_prices = reviews.price.isnull().sum()\n",
       "# or equivalently:\n",
       "n_missing_prices = pd.isnull(reviews.price).sum()\n",
       "\n",
       "```"
      ],
      "text/plain": [
       "Solution: \n",
       "```python\n",
       "missing_price_reviews = reviews[reviews.price.isnull()]\n",
       "n_missing_prices = len(missing_price_reviews)\n",
       "# Cute alternative solution: if we sum a boolean series, True is treated as 1 and False as 0\n",
       "n_missing_prices = reviews.price.isnull().sum()\n",
       "# or equivalently:\n",
       "n_missing_prices = pd.isnull(reviews.price).sum()\n",
       "\n",
       "```"
      ]
     },
     "metadata": {},
     "output_type": "display_data"
    }
   ],
   "source": [
    "#q3.hint()\n",
    "q3.solution()"
   ]
  },
  {
   "cell_type": "markdown",
   "id": "97e4ebfb",
   "metadata": {
    "papermill": {
     "duration": 0.007109,
     "end_time": "2023-06-30T04:22:11.455303",
     "exception": false,
     "start_time": "2023-06-30T04:22:11.448194",
     "status": "completed"
    },
    "tags": []
   },
   "source": [
    "## 4.\n",
    "What are the most common wine-producing regions? Create a Series counting the number of times each value occurs in the `region_1` field. This field is often missing data, so replace missing values with `Unknown`. Sort in descending order.  Your output should look something like this:\n",
    "\n",
    "```\n",
    "Unknown                    21247\n",
    "Napa Valley                 4480\n",
    "                           ...  \n",
    "Bardolino Superiore            1\n",
    "Primitivo del Tarantino        1\n",
    "Name: region_1, Length: 1230, dtype: int64\n",
    "```"
   ]
  },
  {
   "cell_type": "code",
   "execution_count": 8,
   "id": "3b8f5b93",
   "metadata": {
    "execution": {
     "iopub.execute_input": "2023-06-30T04:22:11.471689Z",
     "iopub.status.busy": "2023-06-30T04:22:11.471299Z",
     "iopub.status.idle": "2023-06-30T04:22:11.479528Z",
     "shell.execute_reply": "2023-06-30T04:22:11.478431Z"
    },
    "papermill": {
     "duration": 0.019146,
     "end_time": "2023-06-30T04:22:11.481928",
     "exception": false,
     "start_time": "2023-06-30T04:22:11.462782",
     "status": "completed"
    },
    "tags": []
   },
   "outputs": [
    {
     "data": {
      "application/javascript": [
       "parent.postMessage({\"jupyterEvent\": \"custom.exercise_interaction\", \"data\": {\"outcomeType\": 4, \"interactionType\": 1, \"questionType\": 2, \"questionId\": \"4_ReviewsPerRegion\", \"learnToolsVersion\": \"0.3.4\", \"valueTowardsCompletion\": 0.0, \"failureMessage\": \"\", \"exceptionClass\": \"\", \"trace\": \"\"}}, \"*\")"
      ],
      "text/plain": [
       "<IPython.core.display.Javascript object>"
      ]
     },
     "metadata": {},
     "output_type": "display_data"
    },
    {
     "data": {
      "text/markdown": [
       "<span style=\"color:#ccaa33\">Check:</span> When you've updated the starter code, `check()` will tell you whether your code is correct. You need to update the code that creates variable `reviews_per_region`"
      ],
      "text/plain": [
       "Check: When you've updated the starter code, `check()` will tell you whether your code is correct. You need to update the code that creates variable `reviews_per_region`"
      ]
     },
     "metadata": {},
     "output_type": "display_data"
    }
   ],
   "source": [
    "reviews_per_region = ____\n",
    "\n",
    "# Check your answer\n",
    "q4.check()"
   ]
  },
  {
   "cell_type": "code",
   "execution_count": 9,
   "id": "878e72f6",
   "metadata": {
    "execution": {
     "iopub.execute_input": "2023-06-30T04:22:11.499373Z",
     "iopub.status.busy": "2023-06-30T04:22:11.498992Z",
     "iopub.status.idle": "2023-06-30T04:22:11.503816Z",
     "shell.execute_reply": "2023-06-30T04:22:11.502631Z"
    },
    "papermill": {
     "duration": 0.016272,
     "end_time": "2023-06-30T04:22:11.506076",
     "exception": false,
     "start_time": "2023-06-30T04:22:11.489804",
     "status": "completed"
    },
    "tags": []
   },
   "outputs": [],
   "source": [
    "#q4.hint()\n",
    "#q4.solution()"
   ]
  },
  {
   "cell_type": "markdown",
   "id": "1a57fd41",
   "metadata": {
    "papermill": {
     "duration": 0.007819,
     "end_time": "2023-06-30T04:22:11.521822",
     "exception": false,
     "start_time": "2023-06-30T04:22:11.514003",
     "status": "completed"
    },
    "tags": []
   },
   "source": [
    "# Keep going\n",
    "\n",
    "Move on to **[renaming and combining](https://www.kaggle.com/residentmario/renaming-and-combining)**."
   ]
  },
  {
   "cell_type": "markdown",
   "id": "54f038c2",
   "metadata": {
    "papermill": {
     "duration": 0.007578,
     "end_time": "2023-06-30T04:22:11.537348",
     "exception": false,
     "start_time": "2023-06-30T04:22:11.529770",
     "status": "completed"
    },
    "tags": []
   },
   "source": [
    "---\n",
    "\n",
    "\n",
    "\n",
    "\n",
    "*Have questions or comments? Visit the [course discussion forum](https://www.kaggle.com/learn/pandas/discussion) to chat with other learners.*"
   ]
  }
 ],
 "metadata": {
  "kernelspec": {
   "display_name": "Python 3",
   "language": "python",
   "name": "python3"
  },
  "language_info": {
   "codemirror_mode": {
    "name": "ipython",
    "version": 3
   },
   "file_extension": ".py",
   "mimetype": "text/x-python",
   "name": "python",
   "nbconvert_exporter": "python",
   "pygments_lexer": "ipython3",
   "version": "3.10.10"
  },
  "papermill": {
   "default_parameters": {},
   "duration": 16.502458,
   "end_time": "2023-06-30T04:22:12.468199",
   "environment_variables": {},
   "exception": null,
   "input_path": "__notebook__.ipynb",
   "output_path": "__notebook__.ipynb",
   "parameters": {},
   "start_time": "2023-06-30T04:21:55.965741",
   "version": "2.4.0"
  }
 },
 "nbformat": 4,
 "nbformat_minor": 5
}
